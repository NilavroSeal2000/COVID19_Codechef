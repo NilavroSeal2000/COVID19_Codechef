{
 "cells": [
  {
   "cell_type": "markdown",
   "metadata": {
    "colab_type": "text",
    "id": "4BwGRpNnixgM"
   },
   "source": [
    "! pip install seaborn# "
   ]
  },
  {
   "cell_type": "code",
   "execution_count": null,
   "metadata": {
    "colab": {},
    "colab_type": "code",
    "id": "fq00pifqicIm"
   },
   "outputs": [],
   "source": [
    "import pandas as pd\n",
    "import numpy as np\n",
    "import seaborn as sn\n",
    "from matplotlib import pyplot as plt\n",
    "import plotly.graph_objects as go\n",
    "from fbprophet import Prophet\n",
    "import plotly.express as px"
   ]
  },
  {
   "cell_type": "markdown",
   "metadata": {
    "colab_type": "text",
    "id": "Wkzg1_i1i_K-"
   },
   "source": [
    "# Data Imports and Renaming Columns"
   ]
  },
  {
   "cell_type": "code",
   "execution_count": null,
   "metadata": {
    "colab": {},
    "colab_type": "code",
    "id": "CedoW2CqifhI"
   },
   "outputs": [],
   "source": [
    "df = pd.read_csv('C:/Users/soumya/Desktop/COVID-19-master/novel-corona-virus-2019-dataset/covid_19_data.csv')\n",
    "df.rename(columns = {'ObservationDate':'Date', 'Country/Region':'Country'}, inplace = True)\n",
    "\n",
    "df_confirmed = pd.read_csv('C:/Users/soumya/Desktop/COVID-19-master/novel-corona-virus-2019-dataset/time_series_covid_19_confirmed.csv')\n",
    "df_confirmed.rename(columns = {'Country/Region':'Country'}, inplace = True)\n",
    "\n",
    "df_deaths = pd.read_csv('C:/Users/soumya/Desktop/COVID-19-master/novel-corona-virus-2019-dataset/time_series_covid_19_deaths.csv')\n",
    "df_deaths.rename(columns = {'Country/Region':'Country'}, inplace = True)\n",
    "\n",
    "df_recovered = pd.read_csv('C:/Users/soumya/Desktop/COVID-19-master/novel-corona-virus-2019-dataset/time_series_covid_19_recovered.csv')\n",
    "df_recovered.rename(columns = {'Country/Region':'Country'}, inplace = True)"
   ]
  },
  {
   "cell_type": "markdown",
   "metadata": {
    "colab_type": "text",
    "id": "4aewpNiPjFTn"
   },
   "source": [
    "### Exploring Data"
   ]
  },
  {
   "cell_type": "code",
   "execution_count": null,
   "metadata": {
    "colab": {
     "base_uri": "https://localhost:8080/",
     "height": 229
    },
    "colab_type": "code",
    "id": "56907ih4kdaZ",
    "outputId": "460e12ee-b37e-4df8-ed22-8277373f50f6"
   },
   "outputs": [],
   "source": [
    "print(\"COVID-19 DATA\\n\")\n",
    "df.head()\n"
   ]
  },
  {
   "cell_type": "code",
   "execution_count": null,
   "metadata": {
    "colab": {
     "base_uri": "https://localhost:8080/",
     "height": 249
    },
    "colab_type": "code",
    "id": "CX9FPXiQk0xU",
    "outputId": "ff12df53-cddc-40ae-bef6-11ec1b157196"
   },
   "outputs": [],
   "source": [
    "print(\"COVID-19 Confirmed DATA\\n\")\n",
    "df_confirmed.head()\n",
    "\n"
   ]
  },
  {
   "cell_type": "code",
   "execution_count": null,
   "metadata": {
    "colab": {
     "base_uri": "https://localhost:8080/",
     "height": 249
    },
    "colab_type": "code",
    "id": "qI1tOMxTk20_",
    "outputId": "e8c1b523-9e63-465b-dab9-be8feba28d38"
   },
   "outputs": [],
   "source": [
    "print(\"COVID-19 Deaths DATA\\n\")\n",
    "df_deaths.head()\n",
    "\n"
   ]
  },
  {
   "cell_type": "code",
   "execution_count": null,
   "metadata": {
    "colab": {
     "base_uri": "https://localhost:8080/",
     "height": 249
    },
    "colab_type": "code",
    "id": "bMJs60ink4el",
    "outputId": "79da86ca-80dd-4b15-fb31-fe5994c468a8"
   },
   "outputs": [],
   "source": [
    "print(\"COVID-19 Recovered DATA\\n\")\n",
    "df_recovered.head()"
   ]
  },
  {
   "cell_type": "code",
   "execution_count": null,
   "metadata": {
    "colab": {
     "base_uri": "https://localhost:8080/",
     "height": 284
    },
    "colab_type": "code",
    "id": "QaKhPN2tk5QX",
    "outputId": "d5e2baf6-16ae-493e-8215-dc171d4aeb59"
   },
   "outputs": [],
   "source": [
    "df.describe()\n"
   ]
  },
  {
   "cell_type": "code",
   "execution_count": null,
   "metadata": {
    "colab": {
     "base_uri": "https://localhost:8080/",
     "height": 304
    },
    "colab_type": "code",
    "id": "GDFLpOb7klNY",
    "outputId": "87ca749e-c28e-4f45-fce1-049a17731585"
   },
   "outputs": [],
   "source": [
    "df_confirmed.describe()"
   ]
  },
  {
   "cell_type": "code",
   "execution_count": null,
   "metadata": {
    "colab": {
     "base_uri": "https://localhost:8080/",
     "height": 304
    },
    "colab_type": "code",
    "id": "rxOv_g5FlVYF",
    "outputId": "8da53ffd-6fbf-41eb-faa0-1e8370f54ce6"
   },
   "outputs": [],
   "source": [
    "df_deaths.describe()"
   ]
  },
  {
   "cell_type": "code",
   "execution_count": null,
   "metadata": {
    "colab": {
     "base_uri": "https://localhost:8080/",
     "height": 279
    },
    "colab_type": "code",
    "id": "6lSb3etllXTk",
    "outputId": "00e1e2ed-a1cc-4fd4-82ee-aac82d783e50"
   },
   "outputs": [],
   "source": [
    "df.recovered.describe()"
   ]
  },
  {
   "cell_type": "markdown",
   "metadata": {
    "colab_type": "text",
    "id": "4bCBOykulexA"
   },
   "source": [
    "### Earliest and Latest Cases"
   ]
  },
  {
   "cell_type": "code",
   "execution_count": null,
   "metadata": {
    "colab": {
     "base_uri": "https://localhost:8080/",
     "height": 195
    },
    "colab_type": "code",
    "id": "KuhJo2m-ljXj",
    "outputId": "3ef5dfdc-4fc9-43d0-c065-7468fe24d693"
   },
   "outputs": [],
   "source": [
    "df.head()"
   ]
  },
  {
   "cell_type": "code",
   "execution_count": null,
   "metadata": {
    "colab": {
     "base_uri": "https://localhost:8080/",
     "height": 195
    },
    "colab_type": "code",
    "id": "gAvlccBDlkmk",
    "outputId": "b8fef79a-7453-465f-a92e-0f9fd14f41f1"
   },
   "outputs": [],
   "source": [
    "df.tail()"
   ]
  },
  {
   "cell_type": "markdown",
   "metadata": {
    "colab_type": "text",
    "id": "qqP7CqdolrYZ"
   },
   "source": [
    "## By country View"
   ]
  },
  {
   "cell_type": "code",
   "execution_count": null,
   "metadata": {
    "colab": {},
    "colab_type": "code",
    "id": "JUiPey1Wlldi"
   },
   "outputs": [],
   "source": [
    "df2 = df.groupby(['Date','Country'])[['Date', 'Country', 'Confirmed', 'Deaths', 'Recovered']].sum().reset_index()"
   ]
  },
  {
   "cell_type": "code",
   "execution_count": null,
   "metadata": {
    "colab": {
     "base_uri": "https://localhost:8080/",
     "height": 195
    },
    "colab_type": "code",
    "id": "387aioNTmGRx",
    "outputId": "9b1098a8-3871-459f-c2e8-258ab89b71ab"
   },
   "outputs": [],
   "source": [
    "df2.tail()"
   ]
  },
  {
   "cell_type": "markdown",
   "metadata": {
    "colab_type": "text",
    "id": "mdq4BlidmjYS"
   },
   "source": [
    "## By country View(Inida and China)"
   ]
  },
  {
   "cell_type": "code",
   "execution_count": null,
   "metadata": {
    "colab": {
     "base_uri": "https://localhost:8080/",
     "height": 1000
    },
    "colab_type": "code",
    "id": "B5IIoPtLmHQ6",
    "outputId": "70324bd8-717c-47a7-b451-b640d7e6ee81"
   },
   "outputs": [],
   "source": [
    "df.query('Country == \"India\"').groupby('Date')[['Confirmed', 'Deaths', 'Recovered']].sum().reset_index()"
   ]
  },
  {
   "cell_type": "code",
   "execution_count": null,
   "metadata": {
    "colab": {
     "base_uri": "https://localhost:8080/",
     "height": 1000
    },
    "colab_type": "code",
    "id": "9DZUceCHm6RP",
    "outputId": "99726407-8b69-4851-df19-dbe8642a5c30"
   },
   "outputs": [],
   "source": [
    "df.query('Country == \"Mainland China\"').groupby('Date')[['Confirmed', 'Deaths', 'Recovered']].sum().reset_index()\n"
   ]
  },
  {
   "cell_type": "code",
   "execution_count": null,
   "metadata": {
    "colab": {
     "base_uri": "https://localhost:8080/",
     "height": 402
    },
    "colab_type": "code",
    "id": "SNGV3rQPnTEk",
    "outputId": "b03fd01f-16bf-4e62-d3ab-fe421f39602e"
   },
   "outputs": [],
   "source": [
    "df.groupby('Country')[['Confirmed', 'Deaths', 'Recovered']].sum().reset_index()\n"
   ]
  },
  {
   "cell_type": "markdown",
   "metadata": {
    "colab_type": "text",
    "id": "Oj8iu1bln0Ak"
   },
   "source": [
    "# Visualizations"
   ]
  },
  {
   "cell_type": "code",
   "execution_count": null,
   "metadata": {
    "colab": {
     "base_uri": "https://localhost:8080/",
     "height": 1000
    },
    "colab_type": "code",
    "id": "PLhev_OPoMCQ",
    "outputId": "4fd9e382-49e4-4fb0-e69a-597f39a757a6"
   },
   "outputs": [],
   "source": [
    "df.groupby('Date').sum()"
   ]
  },
  {
   "cell_type": "markdown",
   "metadata": {
    "colab_type": "text",
    "id": "eILDqMCtn5Da"
   },
   "source": [
    "### Summary Plot of Worldwide Cases - Confirmed, Deaths & Recovered"
   ]
  },
  {
   "cell_type": "code",
   "execution_count": null,
   "metadata": {
    "colab": {},
    "colab_type": "code",
    "id": "Hhmdp7dEndJV"
   },
   "outputs": [],
   "source": [
    "confirmed = df.groupby(\"Date\").sum()['Confirmed'].reset_index()\n",
    "deaths = df.groupby(\"Date\").sum()['Deaths'].reset_index()\n",
    "recovered = df.groupby(\"Date\").sum()['Recovered'].reset_index()\n"
   ]
  },
  {
   "cell_type": "code",
   "execution_count": null,
   "metadata": {
    "colab": {
     "base_uri": "https://localhost:8080/",
     "height": 542
    },
    "colab_type": "code",
    "id": "s0h0lyn2oc-r",
    "outputId": "de3bcbfb-6ec2-4bbd-f125-053d11162698"
   },
   "outputs": [],
   "source": [
    "fig = go.Figure()\n",
    "\n",
    "fig.add_trace(go.Bar(x = confirmed['Date'], y = confirmed['Confirmed'], name = 'Confirmed', marker_color = 'blue'))\n",
    "\n",
    "fig.add_trace(go.Bar(x = deaths['Date'], y = deaths['Deaths'], name = 'Deaths', marker_color = 'Red'))\n",
    "\n",
    "fig.add_trace(go.Bar(x = recovered['Date'], y = recovered['Recovered'], name = 'Recovered', marker_color = 'Green'))\n",
    "\n",
    "fig.update_layout(\n",
    "    title='Worldwide Corona Virus Cases - Confirmed, Deaths, Recovered (Bar Chart)',\n",
    "    xaxis_tickfont_size=14,\n",
    "    yaxis=dict(\n",
    "        title='Number of Cases',\n",
    "        titlefont_size=16,\n",
    "        tickfont_size=14,\n",
    "    ),\n",
    "    legend=dict(\n",
    "        x=0,\n",
    "        y=1.0,\n",
    "        bgcolor='rgba(255, 255, 255, 0)',\n",
    "        bordercolor='rgba(255, 255, 255, 0)'\n",
    "    ),\n",
    "    barmode='group',\n",
    "    bargap=0.15, # gap between bars of adjacent location coordinates.\n",
    "    bargroupgap=0.1 # gap between bars of the same location coordinate.\n",
    ")\n",
    "fig.show()"
   ]
  },
  {
   "cell_type": "code",
   "execution_count": null,
   "metadata": {
    "colab": {
     "base_uri": "https://localhost:8080/",
     "height": 542
    },
    "colab_type": "code",
    "id": "UR-bycA_p5pm",
    "outputId": "25b121df-f2a1-4eeb-ea2b-27b2c766e719"
   },
   "outputs": [],
   "source": [
    "fig = go.Figure()\n",
    "fig.add_trace(go.Scatter(x=confirmed['Date'], \n",
    "                         y=confirmed['Confirmed'],\n",
    "                         mode='lines+markers',\n",
    "                         name='Confirmed',\n",
    "                         line=dict(color='blue', width=2)\n",
    "                        ))\n",
    "fig.add_trace(go.Scatter(x=deaths['Date'], \n",
    "                         y=deaths['Deaths'],\n",
    "                         mode='lines+markers',\n",
    "                         name='Deaths',\n",
    "                         line=dict(color='Red', width=2)\n",
    "                        ))\n",
    "fig.add_trace(go.Scatter(x=recovered['Date'], \n",
    "                         y=recovered['Recovered'],\n",
    "                         mode='lines+markers',\n",
    "                         name='Recovered',\n",
    "                         line=dict(color='Green', width=2)\n",
    "                        ))\n",
    "fig.update_layout(\n",
    "    title='Worldwide Corona Virus Cases - Confirmed, Deaths, Recovered (Line Chart)',\n",
    "    xaxis_tickfont_size=14,\n",
    "    yaxis=dict(\n",
    "        title='Number of Cases',\n",
    "        titlefont_size=16,\n",
    "        tickfont_size=14,\n",
    "    ),\n",
    "    legend=dict(\n",
    "        x=0,\n",
    "        y=1.0,\n",
    "        bgcolor='rgba(255, 255, 255, 0)',\n",
    "        bordercolor='rgba(255, 255, 255, 0)'\n",
    "    )\n",
    ")\n",
    "fig.show()"
   ]
  },
  {
   "cell_type": "code",
   "execution_count": null,
   "metadata": {
    "colab": {
     "base_uri": "https://localhost:8080/",
     "height": 717
    },
    "colab_type": "code",
    "id": "OuxHPGWPqgum",
    "outputId": "5187d83d-1387-4694-fc7b-742081145dbe"
   },
   "outputs": [],
   "source": [
    "df_confirmed = df_confirmed[['Province/State', 'Lat', 'Long', 'Country']]\n",
    "df_latlong = pd.merge(df, df_confirmed, on = ['Province/State', 'Country'])\n",
    "\n",
    "fig = px.density_mapbox(df_latlong, lat='Lat', lon='Long', hover_name='Province/State', hover_data = ['Confirmed', 'Deaths', 'Recovered'], animation_frame=\"Date\", color_continuous_scale='Rainbow', radius=7, zoom=0, height=700)\n",
    "\n",
    "fig.update_layout(title='Worldwide Corona Virus Cases Time Lapse - Confirmed, Deaths, Recovered',\n",
    "                  font=dict(family=\"Courier New, monospace\",\n",
    "                            size=18,\n",
    "                            color=\"#7f7f7f\")\n",
    "                 )\n",
    "fig.update_layout(mapbox_style=\"open-street-map\", mapbox_center_lon=0)\n",
    "fig.update_layout(margin={\"r\":0,\"t\":0,\"l\":0,\"b\":0})\n",
    "\n",
    "\n",
    "fig.show()"
   ]
  },
  {
   "cell_type": "markdown",
   "metadata": {
    "colab_type": "text",
    "id": "OzUmGhrGtYbc"
   },
   "source": [
    "# Analysis By country"
   ]
  },
  {
   "cell_type": "markdown",
   "metadata": {
    "colab_type": "text",
    "id": "yi40nqWKtfCf"
   },
   "source": [
    "### Latest Date in Data"
   ]
  },
  {
   "cell_type": "code",
   "execution_count": null,
   "metadata": {
    "colab": {},
    "colab_type": "code",
    "id": "uTl4Ny4PtBqJ"
   },
   "outputs": [],
   "source": [
    "confirmed = df2.groupby(['Date', 'Country']).sum()[['Confirmed']].reset_index()\n",
    "deaths = df2.groupby(['Date', 'Country']).sum()[['Deaths']].reset_index()\n",
    "recovered = df2.groupby(['Date', 'Country']).sum()[['Recovered']].reset_index()"
   ]
  },
  {
   "cell_type": "code",
   "execution_count": null,
   "metadata": {
    "colab": {
     "base_uri": "https://localhost:8080/",
     "height": 34
    },
    "colab_type": "code",
    "id": "hSxY0qzuth2X",
    "outputId": "2d238b95-a712-4fa2-da18-e21ee167f2d6"
   },
   "outputs": [],
   "source": [
    "latest_date = confirmed['Date'].max()\n",
    "latest_date"
   ]
  },
  {
   "cell_type": "code",
   "execution_count": null,
   "metadata": {
    "colab": {},
    "colab_type": "code",
    "id": "XtsOvU2mt3Kn"
   },
   "outputs": [],
   "source": [
    "confirmed = confirmed[(confirmed[\"Date\"]==latest_date)][['Country', 'Confirmed']]\n",
    "deaths = deaths[(deaths[\"Date\"]==latest_date)][['Country', 'Deaths']]\n",
    "recovered = recovered[(recovered[\"Date\"]==latest_date)][['Country', 'Recovered']]\n"
   ]
  },
  {
   "cell_type": "code",
   "execution_count": null,
   "metadata": {
    "colab": {
     "base_uri": "https://localhost:8080/",
     "height": 542
    },
    "colab_type": "code",
    "id": "A_z80ZQruhUL",
    "outputId": "5a904b68-ef89-46ce-a481-5c648eb8bfb1"
   },
   "outputs": [],
   "source": [
    "fig = go.Figure()\n",
    "\n",
    "fig.add_trace(go.Bar(x = confirmed['Country'], y = confirmed['Confirmed'], name = 'Confirmed', marker_color = 'blue'))\n",
    "\n",
    "fig.add_trace(go.Bar(x = deaths['Country'], y = deaths['Deaths'], name = 'Deaths', marker_color = 'Red'))\n",
    "\n",
    "fig.add_trace(go.Bar(x = recovered['Country'], y = recovered['Recovered'], name = 'Recovered', marker_color = 'Green'))\n",
    "\n",
    "fig.update_layout(\n",
    "    title='Worldwide Corona Virus Cases - Confirmed, Deaths, Recovered (Bar Chart)',\n",
    "    xaxis_tickfont_size=14,\n",
    "    yaxis=dict(\n",
    "        title='Number of Cases',\n",
    "        titlefont_size=16,\n",
    "        tickfont_size=14,\n",
    "    ),\n",
    "    legend=dict(\n",
    "        x=0,\n",
    "        y=1.0,\n",
    "        bgcolor='rgba(255, 255, 255, 0)',\n",
    "        bordercolor='rgba(255, 255, 255, 0)'\n",
    "    ),\n",
    "    barmode='group',\n",
    "    bargap=0.15, # gap between bars of adjacent location coordinates.\n",
    "    bargroupgap=0.1 # gap between bars of the same location coordinate.\n",
    ")\n",
    "fig.show()"
   ]
  },
  {
   "cell_type": "markdown",
   "metadata": {
    "colab_type": "text",
    "id": "f49l_iS3vFx6"
   },
   "source": [
    "## Countries Effected"
   ]
  },
  {
   "cell_type": "code",
   "execution_count": null,
   "metadata": {
    "colab": {
     "base_uri": "https://localhost:8080/",
     "height": 1000
    },
    "colab_type": "code",
    "id": "vuBlCTaVuimL",
    "outputId": "e999c31d-e602-4016-a41c-c15603060bef"
   },
   "outputs": [],
   "source": [
    "all_country = confirmed['Country'].unique()\n",
    "\n",
    "print(\"Number of countries with cases: \", str(len(all_country)))\n",
    "\n",
    "print(\"Countries with cases: \")\n",
    "for i in range(len(all_country)):\n",
    "  print(str(i) + ' - - ' + all_country[i])"
   ]
  },
  {
   "cell_type": "code",
   "execution_count": null,
   "metadata": {
    "colab": {
     "base_uri": "https://localhost:8080/",
     "height": 185
    },
    "colab_type": "code",
    "id": "PnRDyVFqwalo",
    "outputId": "fb35cfc0-3447-4824-8c57-63cf98b05882"
   },
   "outputs": [],
   "source": [
    "!pip install pycountry"
   ]
  },
  {
   "cell_type": "code",
   "execution_count": null,
   "metadata": {
    "colab": {
     "base_uri": "https://localhost:8080/",
     "height": 542
    },
    "colab_type": "code",
    "id": "YwMWbFePvj_4",
    "outputId": "32d8b228-f1c2-48f1-8688-2e9d9cc559eb"
   },
   "outputs": [],
   "source": [
    "import pycountry\n",
    "\n",
    "countries = {}\n",
    "for country in pycountry.countries:\n",
    "    countries[country.name] = country.alpha_3\n",
    "    \n",
    "confirmed[\"iso_alpha\"] = confirmed[\"Country\"].map(countries.get)\n",
    "deaths[\"iso_alpha\"] = deaths[\"Country\"].map(countries.get)\n",
    "recovered[\"iso_alpha\"] = recovered[\"Country\"].map(countries.get)\n",
    "\n",
    "plot_data_confirmed = confirmed[[\"iso_alpha\",\"Confirmed\", \"Country\"]]\n",
    "plot_data_deaths = deaths[[\"iso_alpha\",\"Deaths\"]]\n",
    "plot_data_recovered = recovered[[\"iso_alpha\",\"Recovered\"]]\n",
    "\n",
    "fig = px.scatter_geo(plot_data_confirmed, locations=\"iso_alpha\", color=\"Country\",\n",
    "                     hover_name=\"iso_alpha\", size=\"Confirmed\",\n",
    "                     projection=\"natural earth\", title = 'Worldwide Confirmed Cases')\n",
    "fig.show()"
   ]
  },
  {
   "cell_type": "code",
   "execution_count": null,
   "metadata": {
    "colab": {
     "base_uri": "https://localhost:8080/",
     "height": 542
    },
    "colab_type": "code",
    "id": "WY_z9I4bwOZm",
    "outputId": "8b85a4eb-17e4-4ed7-a8cb-61a509f9196d"
   },
   "outputs": [],
   "source": [
    "fig = px.scatter_geo(plot_data_deaths, locations=\"iso_alpha\", color=\"Deaths\",\n",
    "                     hover_name=\"iso_alpha\", size=\"Deaths\",\n",
    "                     projection=\"natural earth\", title=\"Worldwide Death Cases\")\n",
    "fig.show()"
   ]
  },
  {
   "cell_type": "code",
   "execution_count": null,
   "metadata": {
    "colab": {
     "base_uri": "https://localhost:8080/",
     "height": 542
    },
    "colab_type": "code",
    "id": "3PQTL8cmw5hc",
    "outputId": "4caa4c86-2eb0-4384-da43-28813d62c9e8"
   },
   "outputs": [],
   "source": [
    "fig = px.scatter_geo(plot_data_recovered, locations=\"iso_alpha\", color=\"Recovered\",\n",
    "                     hover_name=\"iso_alpha\", size=\"Recovered\",\n",
    "                     projection=\"natural earth\", title=\"Worldwide Recovered Cases\")\n",
    "fig.show()"
   ]
  },
  {
   "cell_type": "markdown",
   "metadata": {
    "colab_type": "text",
    "id": "n2BVfoSNxm3w"
   },
   "source": [
    "# Transforming Data for Forecasting"
   ]
  },
  {
   "cell_type": "code",
   "execution_count": null,
   "metadata": {
    "colab": {
     "base_uri": "https://localhost:8080/",
     "height": 195
    },
    "colab_type": "code",
    "id": "lRM83upCxKnG",
    "outputId": "383e7690-8380-4f49-a087-67e02f98df65"
   },
   "outputs": [],
   "source": [
    "confirmed = df.groupby('Date').sum()['Confirmed'].reset_index()\n",
    "deaths = df.groupby('Date').sum()['Deaths'].reset_index()\n",
    "recovered = df.groupby('Date').sum()['Recovered'].reset_index()\n",
    "\n",
    "confirmed.columns = ['ds','y']\n",
    "confirmed['ds'] = pd.to_datetime(confirmed['ds'])\n",
    "confirmed.head()"
   ]
  },
  {
   "cell_type": "markdown",
   "metadata": {
    "colab_type": "text",
    "id": "8HS5xyjkywNQ"
   },
   "source": [
    "# Forcasting Total Number of Cases Worldwide"
   ]
  },
  {
   "cell_type": "markdown",
   "metadata": {
    "colab_type": "text",
    "id": "Yg5a0SCLzLe7"
   },
   "source": [
    "## Forecasting Confirmed Cases Worldwide with Prophet (Baseline)\n",
    "We perform a week's ahead forecast with Prophet, with 95% prediction intervals. Here, no tweaking of seasonality-related parameters and additional regressors are performed."
   ]
  },
  {
   "cell_type": "code",
   "execution_count": null,
   "metadata": {
    "colab": {
     "base_uri": "https://localhost:8080/",
     "height": 229
    },
    "colab_type": "code",
    "id": "IkYcT5spx2zb",
    "outputId": "91dafde8-732c-4039-c417-6b38e38371cf"
   },
   "outputs": [],
   "source": [
    "m = Prophet(interval_width=0.95)\n",
    "m.fit(confirmed)\n",
    "future = m.make_future_dataframe(periods=7)\n",
    "future.tail()"
   ]
  },
  {
   "cell_type": "code",
   "execution_count": null,
   "metadata": {
    "colab": {},
    "colab_type": "code",
    "id": "RWZgym5zzSMF"
   },
   "outputs": [],
   "source": []
  }
 ],
 "metadata": {
  "colab": {
   "collapsed_sections": [],
   "name": "COVID-19 EDA.ipynb",
   "provenance": []
  },
  "kernelspec": {
   "display_name": "Python 3",
   "language": "python",
   "name": "python3"
  },
  "language_info": {
   "codemirror_mode": {
    "name": "ipython",
    "version": 3
   },
   "file_extension": ".py",
   "mimetype": "text/x-python",
   "name": "python",
   "nbconvert_exporter": "python",
   "pygments_lexer": "ipython3",
   "version": "3.7.6"
  }
 },
 "nbformat": 4,
 "nbformat_minor": 1
}
